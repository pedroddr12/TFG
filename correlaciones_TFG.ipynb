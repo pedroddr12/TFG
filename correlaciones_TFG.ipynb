{
 "cells": [
  {
   "cell_type": "code",
   "execution_count": null,
   "id": "aec5ca8a",
   "metadata": {},
   "outputs": [],
   "source": [
    "# Lectura del conjunto de datos mediante funciones de Python\n",
    "with open(\"datasets/daass-01.txt\") as train_set1:\n",
    "    df = train_set1.readlines()\n",
    "\n",
    "with open(\"datasets/daass-02.txt\") as train_set2:\n",
    "    df2 = train_set2.readlines()\n",
    "    \n",
    "# Lectura del conjunto de datos utilizando Pandas\n",
    "import pandas as pd\n",
    "\n",
    "df = pd.read_csv(\"datasets/daass-01.txt\")\n",
    "df2= pd.read_csv(\"datasets/daass-02.txt\")\n"
   ]
  },
  {
   "cell_type": "code",
   "execution_count": null,
   "id": "583c5864",
   "metadata": {},
   "outputs": [],
   "source": [
    "df_copy=df.copy()\n",
    "df2_copy=df2.copy()"
   ]
  },
  {
   "cell_type": "markdown",
   "id": "49cd7c2b",
   "metadata": {},
   "source": [
    "## CORRELACIONES"
   ]
  },
  {
   "cell_type": "code",
   "execution_count": null,
   "id": "779143ba",
   "metadata": {},
   "outputs": [],
   "source": [
    "import seaborn as sns\n",
    "import matplotlib.pyplot as plt\n",
    "\n",
    "%matplotlib inline\n",
    "\n",
    "# Crear la figura con un tamaño personalizado\n",
    "plt.figure(figsize=(10, 8))\n",
    "\n",
    "# Generar la matriz de correlación\n",
    "corr_matrix = df.corr().abs()\n",
    "\n",
    "# Crear el mapa de calor\n",
    "sns.heatmap(corr_matrix, cmap=\"YlGnBu\")\n",
    "\n",
    "# Rotar los nombres de los ejes\n",
    "plt.xticks(rotation=45)\n",
    "plt.yticks(rotation=0)\n",
    "\n",
    "# Guardar la figura con los nombres de los ejes visibles\n",
    "#plt.savefig('corr_02.png', format='png', bbox_inches='tight')\n",
    "\n",
    "# Mostrar la figura\n",
    "plt.show()\n"
   ]
  },
  {
   "cell_type": "code",
   "execution_count": null,
   "id": "d5a64a16",
   "metadata": {},
   "outputs": [],
   "source": [
    "import pandas as pd\n",
    "import matplotlib.pyplot as plt\n",
    "\n",
    "data = df2.copy()\n",
    "data['target'] = data['target'].replace({1: 0, 2: 1})\n",
    "\n",
    "\n",
    "\n",
    "corr_matrix = data.corr()\n",
    "corr_values = corr_matrix[\"target\"].abs().sort_values(ascending=False)\n",
    "feature_names = corr_values.index\n",
    "\n",
    "\n",
    "\n",
    "# Crear el gráfico de barras\n",
    "plt.figure(figsize=(10, 6))\n",
    "plt.bar(range(len(corr_values)), corr_values)\n",
    "plt.xticks(range(len(corr_values)), feature_names, rotation=90)\n",
    "plt.xlabel('Características')\n",
    "plt.ylabel('Valor de correlación')\n",
    "plt.title('Correlación con la etiqueta')\n",
    "plt.tight_layout()\n",
    "plt.savefig('correlacion_modificada_01.eps', format='eps')\n",
    "plt.show()\n"
   ]
  },
  {
   "cell_type": "code",
   "execution_count": null,
   "id": "0421a971",
   "metadata": {},
   "outputs": [],
   "source": [
    "df2[\"Puerto\"].value_counts()\n",
    "df2[\"IP\"].value_counts()"
   ]
  },
  {
   "cell_type": "markdown",
   "id": "92d6f4d2",
   "metadata": {},
   "source": [
    "## VISUALIZACION"
   ]
  },
  {
   "cell_type": "code",
   "execution_count": null,
   "id": "01a3663c",
   "metadata": {},
   "outputs": [],
   "source": [
    "import matplotlib.pyplot as plt\n",
    "from mpl_toolkits.mplot3d import Axes3D\n",
    "import numpy as np\n",
    "\n",
    "fig = plt.figure(figsize=(10, 8))  # Ajusta el tamaño de la figura\n",
    "\n",
    "ax = fig.add_subplot(111, projection='3d')\n",
    "\n",
    "x = df2['Dur']\n",
    "y = df2['pkt_bytes']\n",
    "z = df2['dn_num_pkts']\n",
    "colors = df2['target']\n",
    "\n",
    "# Crear una secuencia de colores para cada valor de la columna \"color\"\n",
    "color_map = {0: 'b', 1: 'g', 2: 'r'}\n",
    "color_sequence = [color_map[val] for val in colors]\n",
    "\n",
    "# Dibujar los puntos con los colores correspondientes\n",
    "scatter = ax.scatter(x, y, z, c=color_sequence)\n",
    "\n",
    "ax.set_xlabel('Duracion en segundos')\n",
    "ax.set_ylabel('Numero de Bytes')\n",
    "ax.set_zlabel('Numero de paquetes downstream')\n",
    "\n",
    "# Crear la leyenda de colores\n",
    "legend_elements = [plt.Line2D([0], [0], marker='o', color='w', markerfacecolor='g', markersize=8),\n",
    "                   plt.Line2D([0], [0], marker='o', color='w', markerfacecolor='b', markersize=8),\n",
    "                   plt.Line2D([0], [0], marker='o', color='w', markerfacecolor='r', markersize=8)]\n",
    "labels = ['0 (Benigno)', '1 (DDoS)', '2 (Anomalía)']\n",
    "ax.legend(legend_elements, labels, title='Target')\n",
    "\n",
    "# Establecer el rango de valores de la característica \"x\"\n",
    "# ax.set_ylim([0, 7])\n",
    "#ax.set_xlim([0, 12])\n",
    "#ax.set_zlim([0, 500])\n",
    "#ax.view_init(elev=0, azim=90)\n",
    "\n",
    "\n",
    "plt.show()\n"
   ]
  },
  {
   "cell_type": "code",
   "execution_count": null,
   "id": "a8c13f9b",
   "metadata": {},
   "outputs": [],
   "source": [
    "import matplotlib.pyplot as plt\n",
    "from mpl_toolkits.mplot3d import Axes3D\n",
    "import numpy as np\n",
    "\n",
    "fig = plt.figure(figsize=(10, 8))  # Ajusta el tamaño de la figura\n",
    "ax = fig.add_subplot(111, projection='3d')\n",
    "\n",
    "x = df2['Dur']\n",
    "y = df2['pkt_bytes']\n",
    "z = df2['dn_num_pkts']\n",
    "colors = df2['target']\n",
    "\n",
    "color_map = {0: 'b', 1: 'g', 2: 'r'}\n",
    "color_sequence = [color_map[val] for val in colors]\n",
    "\n",
    "# Configurar la opacidad de los puntos en 1.0 para evitar la transparencia\n",
    "scatter = ax.scatter(x, y, z, c=color_sequence, alpha=1.0)\n",
    "\n",
    "ax.set_xlabel('Duracion en segundos')\n",
    "ax.set_zlabel('Numero de paquetes downstream')\n",
    "\n",
    "legend_elements = [plt.Line2D([0], [0], marker='o', color='w', markerfacecolor='g', markersize=8),\n",
    "                   plt.Line2D([0], [0], marker='o', color='w', markerfacecolor='b', markersize=8),\n",
    "                   plt.Line2D([0], [0], marker='o', color='w', markerfacecolor='r', markersize=8)]\n",
    "labels = ['0 (Benigno)', '1 (DDoS)', '2 (Anomalía)']\n",
    "ax.legend(legend_elements, labels, title='Target', bbox_to_anchor=(0.7, 0.87), loc='upper center')\n",
    "ax.view_init(elev=0, azim=90)\n",
    "\n",
    "# Ajustar el espacio alrededor de la gráfica\n",
    "plt.tight_layout()\n",
    "\n",
    "# Ajustar márgenes manualmente (izquierda, derecha, arriba, abajo)\n",
    "#fig.subplots_adjust(left=0.05, right=0.95, top=0.7, bottom=0.3)\n",
    "#fig.subplots_adjust(bottom=0.3, top=0.9, left=0.3, right=0.9)\n",
    "# ax.set_ylim([0, 7])\n",
    "ax.set_xlim([0, 12])\n",
    "ax.set_zlim([0, 500])\n",
    "plt.savefig('caract_3_daass02_90_zoom.png', format='png', bbox_inches='tight')\n",
    "\n",
    "plt.show()\n"
   ]
  }
 ],
 "metadata": {
  "kernelspec": {
   "display_name": "Python 3 (ipykernel)",
   "language": "python",
   "name": "python3"
  },
  "language_info": {
   "codemirror_mode": {
    "name": "ipython",
    "version": 3
   },
   "file_extension": ".py",
   "mimetype": "text/x-python",
   "name": "python",
   "nbconvert_exporter": "python",
   "pygments_lexer": "ipython3",
   "version": "3.9.16"
  }
 },
 "nbformat": 4,
 "nbformat_minor": 5
}
